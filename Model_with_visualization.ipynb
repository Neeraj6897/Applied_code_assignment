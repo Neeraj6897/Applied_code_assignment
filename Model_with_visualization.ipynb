{
  "cells": [
    {
      "metadata": {
        "_uuid": "8f2839f25d086af736a60e9eeb907d3b93b6e0e5",
        "_cell_guid": "b1076dfc-b9ad-4769-8c92-a6c4dae69d19",
        "trusted": true,
        "collapsed": true
      },
      "cell_type": "code",
      "source": "#Importing the two basic libraries\nimport numpy as np \nimport pandas as pd ",
      "execution_count": 212,
      "outputs": []
    },
    {
      "metadata": {
        "_cell_guid": "79c7e3d0-c299-4dcb-8224-4455121ee9b0",
        "collapsed": true,
        "_uuid": "d629ff2d2480ee46fbb7e2d37f6b5fab8052498a",
        "trusted": true
      },
      "cell_type": "code",
      "source": "#Loading the training data\ntrain_data = pd.read_csv('../input/train.csv')",
      "execution_count": 213,
      "outputs": []
    },
    {
      "metadata": {
        "_uuid": "1e93b707867e95f9eaa4f1cf3e6342a024cc2052"
      },
      "cell_type": "markdown",
      "source": "**Taking a look at our training data**"
    },
    {
      "metadata": {
        "trusted": true,
        "_uuid": "48c3816986d0d6adfdda1d730339fbf2d519d30d"
      },
      "cell_type": "code",
      "source": "#This is how our training data looks like\nprint(train_data.head())",
      "execution_count": 214,
      "outputs": [
        {
          "output_type": "stream",
          "text": "   Id  MSSubClass MSZoning  LotFrontage  LotArea Street Alley LotShape  \\\n0   1          60       RL         65.0     8450   Pave   NaN      Reg   \n1   2          20       RL         80.0     9600   Pave   NaN      Reg   \n2   3          60       RL         68.0    11250   Pave   NaN      IR1   \n3   4          70       RL         60.0     9550   Pave   NaN      IR1   \n4   5          60       RL         84.0    14260   Pave   NaN      IR1   \n\n  LandContour Utilities    ...     PoolArea PoolQC Fence MiscFeature MiscVal  \\\n0         Lvl    AllPub    ...            0    NaN   NaN         NaN       0   \n1         Lvl    AllPub    ...            0    NaN   NaN         NaN       0   \n2         Lvl    AllPub    ...            0    NaN   NaN         NaN       0   \n3         Lvl    AllPub    ...            0    NaN   NaN         NaN       0   \n4         Lvl    AllPub    ...            0    NaN   NaN         NaN       0   \n\n  MoSold YrSold  SaleType  SaleCondition  SalePrice  \n0      2   2008        WD         Normal     208500  \n1      5   2007        WD         Normal     181500  \n2      9   2008        WD         Normal     223500  \n3      2   2006        WD        Abnorml     140000  \n4     12   2008        WD         Normal     250000  \n\n[5 rows x 81 columns]\n",
          "name": "stdout"
        }
      ]
    },
    {
      "metadata": {
        "_uuid": "fc4eff7df950ec02bab4636fb6f95066ec914e62"
      },
      "cell_type": "markdown",
      "source": "**Handling all the missing values in the training data to make our dataset ready to use**"
    },
    {
      "metadata": {
        "trusted": true,
        "_uuid": "875b1de2c6058e83eed41adfe49547493b08302a",
        "collapsed": true
      },
      "cell_type": "code",
      "source": "total = train_data.isnull().sum().sort_values(ascending=False)\npercent = (train_data.isnull().sum()/train_data.isnull().count()).sort_values(ascending=False)\nmissing_data = pd.concat([total, percent], axis=1, keys=['Total', 'Percent'])",
      "execution_count": 215,
      "outputs": []
    },
    {
      "metadata": {
        "trusted": true,
        "_uuid": "4cdd88472bd3d8a824211378b921d0917a9fe038",
        "collapsed": true
      },
      "cell_type": "code",
      "source": "#Droping the columns with missing data\ntrain_data = train_data.drop((missing_data[missing_data['Total'] > 1]).index,1)\ntrain_data = train_data.drop(train_data.loc[train_data['Electrical'].isnull()].index)\n#train_data.isnull().sum().max() #just to check that there's no missing data missing...",
      "execution_count": 216,
      "outputs": []
    },
    {
      "metadata": {
        "_uuid": "ebb644f7345c6f3aac30eb08e56d39ed665ce795"
      },
      "cell_type": "markdown",
      "source": "**Now we can see that there are a number of columns which are not necessary for our predictions here. So to reduce the computation we are going to use only the following columns to predict**"
    },
    {
      "metadata": {
        "trusted": true,
        "collapsed": true,
        "_uuid": "fc8372f3a3b033359a542a4e80d98920f0828997"
      },
      "cell_type": "code",
      "source": "predictors = ['OverallQual','TotalBsmtSF','2ndFlrSF','GarageArea','YearBuilt','GrLivArea']",
      "execution_count": 217,
      "outputs": []
    },
    {
      "metadata": {
        "trusted": true,
        "_uuid": "ce625dae1e50036b21df041fa8bd4cd102bf920d",
        "collapsed": true
      },
      "cell_type": "code",
      "source": "#Extracting only important columns from the training data\nX = train_data[predictors]",
      "execution_count": 218,
      "outputs": []
    },
    {
      "metadata": {
        "trusted": true,
        "collapsed": true,
        "_uuid": "5a55ee167ee1e5dfc89af48412b764979ae3e1c8"
      },
      "cell_type": "code",
      "source": "#Using y as an output predictor\ny = train_data.SalePrice",
      "execution_count": 219,
      "outputs": []
    },
    {
      "metadata": {
        "_uuid": "f3fc2465516e876d1bc9781dce582a287e2dee57"
      },
      "cell_type": "markdown",
      "source": "**Creating a Linear Regression model**"
    },
    {
      "metadata": {
        "trusted": true,
        "_uuid": "18db234c865a969ed2fc47b8642cce2549418d8e",
        "collapsed": true
      },
      "cell_type": "code",
      "source": "#Importing the required libraries from scikit learn\nimport sklearn\nfrom sklearn.model_selection import train_test_split\nfrom sklearn.linear_model import LinearRegression",
      "execution_count": 220,
      "outputs": []
    },
    {
      "metadata": {
        "_uuid": "ec636cd4180d040453a78d1e792334e53fdfb285"
      },
      "cell_type": "markdown",
      "source": "**Splitting the data into train and validation sets to train and test the model**"
    },
    {
      "metadata": {
        "trusted": true,
        "collapsed": true,
        "_uuid": "4b552e648912c0b08333ff8d406414a6e01a23dc"
      },
      "cell_type": "code",
      "source": "train_X, val_X, train_y, val_y = train_test_split(X, y,random_state = 0)",
      "execution_count": 221,
      "outputs": []
    },
    {
      "metadata": {
        "trusted": true,
        "_uuid": "354e79eafac2447d4c1a9aa445de8128725def0c",
        "collapsed": true
      },
      "cell_type": "code",
      "source": "#Setting up the Linear Regression Model\nX = train_data[predictors]\ntraining_model = LinearRegression()\ntraining_model.fit(train_X,train_y)\npredicted_prices = training_model.predict(val_X)",
      "execution_count": 222,
      "outputs": []
    },
    {
      "metadata": {
        "_uuid": "72424e9368b7eca8ca85e13cbbb32aa65ba8b9ff"
      },
      "cell_type": "markdown",
      "source": "..........**Now comparing the predicted values with original values of Sale Prices will give us the idea about how efficient our algorithm is be here:**"
    },
    {
      "metadata": {
        "trusted": true,
        "_uuid": "077be86b54e13f0f76b33ae4d23c65e1ce5ea03c",
        "collapsed": true
      },
      "cell_type": "code",
      "source": "final_values = pd.DataFrame({'Original Value': val_y, 'Predicted Prices': predicted_prices.round()})",
      "execution_count": 223,
      "outputs": []
    },
    {
      "metadata": {
        "trusted": true,
        "_uuid": "709b93cc063cccbe83428ec64381aebf2600cbd5"
      },
      "cell_type": "code",
      "source": "#Visualizing and comparing the final predicted values to original prices\nprint(final_values.head(4))",
      "execution_count": 224,
      "outputs": [
        {
          "output_type": "stream",
          "text": "      Original Value  Predicted Prices\n1420          179900          176048.0\n494            91300           87737.0\n1412           90000           82446.0\n569           135960          133787.0\n",
          "name": "stdout"
        }
      ]
    },
    {
      "metadata": {
        "trusted": true,
        "collapsed": true,
        "_uuid": "c8e2c1f3285b88837ad0127ce69da3e6bbe84c45"
      },
      "cell_type": "code",
      "source": "#Calculating accuracy of our predicted prices\nfrom sklearn.metrics import r2_score",
      "execution_count": 225,
      "outputs": []
    },
    {
      "metadata": {
        "trusted": true,
        "_uuid": "f27bdd4ccc40aab8f59ca62ef4c51bf66ea595b2",
        "collapsed": true
      },
      "cell_type": "code",
      "source": "accuracy = r2_score(val_y,predicted_prices.round())*100",
      "execution_count": 226,
      "outputs": []
    },
    {
      "metadata": {
        "trusted": true,
        "_uuid": "07c1039a80c462518b4c3b100265575da549772a"
      },
      "cell_type": "code",
      "source": "print(\"Accuracy is: \", accuracy)",
      "execution_count": 227,
      "outputs": [
        {
          "output_type": "stream",
          "text": "Accuracy is:  80.61131603367528\n",
          "name": "stdout"
        }
      ]
    },
    {
      "metadata": {
        "_uuid": "30077babe9b3d99401e4a48d3360d417b91c5224"
      },
      "cell_type": "markdown",
      "source": "**This accuracy is achieved on the basic linear regression model. It can be further improved by using advanced regression models like XgBoost Model.** "
    },
    {
      "metadata": {
        "trusted": true,
        "collapsed": true,
        "_uuid": "d92acca02ea696f227e09e5a5a8b5522f280fc79"
      },
      "cell_type": "code",
      "source": "",
      "execution_count": null,
      "outputs": []
    }
  ],
  "metadata": {
    "kernelspec": {
      "display_name": "Python 3",
      "language": "python",
      "name": "python3"
    },
    "language_info": {
      "name": "python",
      "version": "3.6.4",
      "mimetype": "text/x-python",
      "codemirror_mode": {
        "name": "ipython",
        "version": 3
      },
      "pygments_lexer": "ipython3",
      "nbconvert_exporter": "python",
      "file_extension": ".py"
    }
  },
  "nbformat": 4,
  "nbformat_minor": 1
}